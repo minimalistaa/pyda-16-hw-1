{
 "cells": [
  {
   "cell_type": "code",
   "execution_count": null,
   "metadata": {},
   "outputs": [],
   "source": [
    "documents = [\n",
    " {'type': 'passport', 'number': '2207 876234', 'name': 'Василий Гупкин'},\n",
    " {'type': 'invoice', 'number': '11-2', 'name': 'Геннадий Покемонов'},\n",
    " {'type': 'insurance', 'number': '10006', 'name': 'Аристарх Павлов'}\n",
    "]"
   ]
  },
  {
   "cell_type": "code",
   "execution_count": 100,
   "metadata": {},
   "outputs": [],
   "source": [
    "directories = {\n",
    " '1': ['2207 876234', '11-2'],\n",
    " '2': ['10006'],\n",
    " '3': []\n",
    "}"
   ]
  },
  {
   "cell_type": "code",
   "execution_count": 117,
   "metadata": {
    "scrolled": true
   },
   "outputs": [
    {
     "name": "stdout",
     "output_type": "stream",
     "text": [
      "Введите команду: фы\n",
      "Введите команду: as\n",
      "Введите номер полки: 7\n",
      "Полка добавлена. Текущий перечень полок: 1, 2, 3, 7\n",
      "Введите команду: ds\n",
      "Введите номер полки: 7\n",
      "Полка удалена. Текущий перечень полок: 1, 2, 3\n",
      "Введите команду: q\n",
      "Работа завершена\n"
     ]
    }
   ],
   "source": [
    "while True:\n",
    "    user_input = input('Введите команду: ')\n",
    "    if user_input == 'p':\n",
    "        print(owner_by_num())\n",
    "    elif user_input == 's':\n",
    "        print(directory_by_number())\n",
    "    elif user_input == 'l':\n",
    "        print(data())\n",
    "    elif user_input == 'as':\n",
    "        print(add_directory())\n",
    "    elif user_input == 'ds':\n",
    "        print(delete_directory())\n",
    "    elif user_input == 'q':\n",
    "        print('Работа завершена')\n",
    "        break"
   ]
  },
  {
   "cell_type": "code",
   "execution_count": 41,
   "metadata": {},
   "outputs": [],
   "source": [
    "#Пользовательскй ввод номера документа\n",
    "def doc_number():\n",
    "    num = input('Введите номер документа: ')\n",
    "    res = 'Документ не найден в базе'\n",
    "    return num, res"
   ]
  },
  {
   "cell_type": "code",
   "execution_count": null,
   "metadata": {},
   "outputs": [],
   "source": [
    "#Пункт 1\n",
    "def owner_by_num():\n",
    "    doc_number()\n",
    "    for docs in documents:\n",
    "        if docs['number'] == num:\n",
    "            res = f\"Владелец документа: {docs['name']}\" \n",
    "        else:\n",
    "            pass\n",
    "    return res   "
   ]
  },
  {
   "cell_type": "code",
   "execution_count": 73,
   "metadata": {},
   "outputs": [],
   "source": [
    "#Пункт 2\n",
    "def directory_by_number():\n",
    "    num, res = doc_number()\n",
    "    for No, docs in directories.items():\n",
    "        for element in docs:\n",
    "            if element == num:\n",
    "                res = f\"Документ хранится на полке: {str(No)}\"\n",
    "            else:\n",
    "                pass\n",
    "    return res"
   ]
  },
  {
   "cell_type": "code",
   "execution_count": 142,
   "metadata": {},
   "outputs": [
    {
     "name": "stdout",
     "output_type": "stream",
     "text": [
      "№: 2207 876234, тип: passport, владелец: Василий Гупкин, полка хранения:\n",
      "№: 11-2, тип: invoice, владелец: Геннадий Покемонов, полка хранения:\n",
      "№: 10006, тип: insurance, владелец: Аристарх Павлов, полка хранения:\n"
     ]
    }
   ],
   "source": [
    "#Пункт 3\n",
    "def data():\n",
    "    for docs in documents:\n",
    "        print(f\"№: {docs['number']}, тип: {docs['type']}, владелец: {docs['name']}, полка хранения:\")\n",
    "\n",
    "#не понимаю, как вывести полку хранения >_<\n",
    "data()"
   ]
  },
  {
   "cell_type": "code",
   "execution_count": 105,
   "metadata": {},
   "outputs": [],
   "source": [
    "#Пункт 4\n",
    "def add_directory():\n",
    "    num = input('Введите номер полки: ')\n",
    "    \n",
    "    #Проверка на наличие такой полки в словаре\n",
    "    if num not in directories.keys():\n",
    "        directories[num] = []\n",
    "        res = f\"Полка добавлена. Текущий перечень полок: {', '.join(list(directories.keys()))}\"\n",
    "    else:\n",
    "        res = f\"Такая полка уже существует. Текущий перечень полок: {', '.join(list(directories.keys()))} \"\n",
    "    return res"
   ]
  },
  {
   "cell_type": "code",
   "execution_count": 116,
   "metadata": {},
   "outputs": [],
   "source": [
    "#Пункт 5\n",
    "def delete_directory():\n",
    "    num = input('Введите номер полки: ')\n",
    "\n",
    "    #Проверка, пуста ли полка\n",
    "    if directories[num] == []:\n",
    "        del(directories[num])\n",
    "        res = f\"Полка удалена. Текущий перечень полок: {', '.join(list(directories.keys()))}\"\n",
    "    else:\n",
    "        res = f\"На полке есть документы, удалите их перед удалением полки. Текущий перечень полок: {', '.join(list(directories.keys()))} \"\n",
    "    return res"
   ]
  },
  {
   "cell_type": "code",
   "execution_count": null,
   "metadata": {},
   "outputs": [],
   "source": []
  }
 ],
 "metadata": {
  "kernelspec": {
   "display_name": "Python 3",
   "language": "python",
   "name": "python3"
  },
  "language_info": {
   "codemirror_mode": {
    "name": "ipython",
    "version": 3
   },
   "file_extension": ".py",
   "mimetype": "text/x-python",
   "name": "python",
   "nbconvert_exporter": "python",
   "pygments_lexer": "ipython3",
   "version": "3.8.3"
  }
 },
 "nbformat": 4,
 "nbformat_minor": 4
}
