{
 "cells": [
  {
   "cell_type": "code",
   "execution_count": 31,
   "metadata": {},
   "outputs": [
    {
     "name": "stdout",
     "output_type": "stream",
     "text": [
      "Введите слово: test\n",
      "e s\n"
     ]
    }
   ],
   "source": [
    "#Задание 1\n",
    "word = input('Введите слово: ')\n",
    "num_list = list(enumerate(word))\n",
    "n = int(len(word))\n",
    "if n % 2 != 0:\n",
    "    res = num_list[n // 2]\n",
    "    print(res[1])\n",
    "else:\n",
    "    res = num_list[n // 2 - 1],num_list[(n // 2)]\n",
    "    # индексация от 0, средние буквы будут +-1 от центра\n",
    "    print(res[0][1],res[1][1])\n"
   ]
  },
  {
   "cell_type": "code",
   "execution_count": 64,
   "metadata": {
    "scrolled": true
   },
   "outputs": [
    {
     "name": "stdout",
     "output_type": "stream",
     "text": [
      "Введите число: 1\n",
      "1\n",
      "[1]\n",
      "Введите число: 4\n",
      "4\n",
      "[1, 4]\n",
      "Введите число: 2\n",
      "2\n",
      "[1, 4, 2]\n",
      "Введите число: 3\n",
      "3\n",
      "[1, 4, 2, 3]\n",
      "Введите число: 0\n",
      "Результат:  10\n"
     ]
    }
   ],
   "source": [
    "#Задание 2\n",
    "num = []\n",
    "i=1\n",
    "while i != 0:\n",
    "    x = int(input('Введите число: '))\n",
    "    if x == 0:\n",
    "        res = int(sum(num))\n",
    "        print('Результат: ', res)\n",
    "        break\n",
    "    else:\n",
    "        print(x)\n",
    "        num.append(x)\n",
    "        print(num)\n",
    "        i += 1\n"
   ]
  },
  {
   "cell_type": "code",
   "execution_count": 28,
   "metadata": {},
   "outputs": [],
   "source": [
    "#Задание 3\n",
    "boys = ['Peter', 'Alex', 'John', 'Arthur', 'Richard']\n",
    "girls = ['Kate', 'Liza', 'Kira', 'Emma', 'Trisha']"
   ]
  },
  {
   "cell_type": "code",
   "execution_count": 26,
   "metadata": {},
   "outputs": [],
   "source": [
    "boys = ['Peter', 'Alex', 'John', 'Arthur', 'Richard', 'Michael']\n",
    "girls = ['Kate', 'Liza', 'Kira', 'Emma', 'Trisha']"
   ]
  },
  {
   "cell_type": "code",
   "execution_count": 29,
   "metadata": {},
   "outputs": [
    {
     "name": "stdout",
     "output_type": "stream",
     "text": [
      "Идеальные пары: \n",
      "Alex и Emma\n",
      "Arthur и Kate\n",
      "John и Kira\n",
      "Peter и Liza\n",
      "Richard и Trisha\n"
     ]
    }
   ],
   "source": [
    "pairs = []\n",
    "if len(boys) == len(girls):\n",
    "    res = zip(sorted(boys), sorted(girls))\n",
    "    res_list = list(res)\n",
    "    print('Идеальные пары: ')\n",
    "    for element in res_list:\n",
    "            print(element[0], 'и', element[1])\n",
    "else:\n",
    "    print('Похоже кто-то остался без пары!')"
   ]
  },
  {
   "cell_type": "code",
   "execution_count": 74,
   "metadata": {},
   "outputs": [],
   "source": [
    "#Задание 4\n",
    "countries_temperature = [\n",
    "    ['Thailand', [75.2, 77, 78.8, 73.4, 68, 75.2, 77]],\n",
    "    ['Germany', [57.2, 55.4, 59, 59, 53.6]],\n",
    "    ['Russia', [35.6, 37.4, 39.2, 41, 42.8, 39.2, 35.6]],\n",
    "    ['Poland', [50, 50, 53.6, 57.2, 55.4, 55.4]]\n",
    "]"
   ]
  },
  {
   "cell_type": "code",
   "execution_count": 85,
   "metadata": {},
   "outputs": [
    {
     "name": "stdout",
     "output_type": "stream",
     "text": [
      "Thailand - 23.9 C\n",
      "Germany - 13.8 C\n",
      "Russia - 3.7 C\n",
      "Poland - 12.0 C\n"
     ]
    }
   ],
   "source": [
    "temp = 0\n",
    "for country in countries_temperature:\n",
    "    temp = sum(country[1])/len(country[1])\n",
    "    temp_C = (temp - 32) / 1.8\n",
    "    #(Фаренгейт — 32) : 1,8 = Цельсий\n",
    "    print(country[0], '-', round(temp_C, 1), 'C')\n",
    "    \n"
   ]
  },
  {
   "cell_type": "code",
   "execution_count": 56,
   "metadata": {},
   "outputs": [],
   "source": [
    "#Задание 5\n",
    "stream = [\n",
    "    '2018-01-01,user1,3',\n",
    "    '2018-01-07,user1,4',\n",
    "    '2018-03-29,user1,1',\n",
    "    '2018-04-04,user1,13',\n",
    "    '2018-01-05,user2,7',\n",
    "    '2018-06-14,user3,4',\n",
    "    '2018-07-02,user3,10',\n",
    "    '2018-03-21,user4,19',\n",
    "    '2018-03-22,user4,4',\n",
    "    '2018-04-22,user4,8',\n",
    "    '2018-05-03,user4,9',\n",
    "    '2018-05-11,user4,11',\n",
    "]"
   ]
  },
  {
   "cell_type": "code",
   "execution_count": 53,
   "metadata": {},
   "outputs": [],
   "source": [
    "stream = [\n",
    "    '2018-01-01,user100,150',\n",
    "    '2018-01-07,user99,205',\n",
    "    '2018-03-29,user1001,81'\n",
    "]"
   ]
  },
  {
   "cell_type": "code",
   "execution_count": 57,
   "metadata": {},
   "outputs": [
    {
     "name": "stdout",
     "output_type": "stream",
     "text": [
      "23.25\n"
     ]
    }
   ],
   "source": [
    "stream_data = []\n",
    "views_list = []\n",
    "user_list = []\n",
    "for data in stream:\n",
    "    stream_data.append(data.split(','))\n",
    "    #запись списка с date, user id, view\n",
    "\n",
    "for element in stream_data:\n",
    "    views_list.append(int(element[2]))\n",
    "    # count all views\n",
    "        \n",
    "    if element[1] in user_list:\n",
    "        pass\n",
    "    else:\n",
    "        user_list.append(element[1])\n",
    "    # проверка вхождения user в список\n",
    "        \n",
    "views = sum(views_list)\n",
    "users = len(user_list)\n",
    "res = round(views / users, 2)\n",
    "\n",
    "print(res)"
   ]
  },
  {
   "cell_type": "code",
   "execution_count": 2,
   "metadata": {},
   "outputs": [
    {
     "name": "stdout",
     "output_type": "stream",
     "text": [
      "Введите числа: 1 2 3 3 1 4 3\n",
      "1 2 3 4\n"
     ]
    }
   ],
   "source": [
    "#Задание 6\n",
    "num_str = input('Введите числа: ')\n",
    "num_list = num_str.split(' ')\n",
    "num = sorted(set(num_list))\n",
    "print(' '.join(num))"
   ]
  },
  {
   "cell_type": "code",
   "execution_count": null,
   "metadata": {},
   "outputs": [],
   "source": []
  }
 ],
 "metadata": {
  "kernelspec": {
   "display_name": "Python 3",
   "language": "python",
   "name": "python3"
  },
  "language_info": {
   "codemirror_mode": {
    "name": "ipython",
    "version": 3
   },
   "file_extension": ".py",
   "mimetype": "text/x-python",
   "name": "python",
   "nbconvert_exporter": "python",
   "pygments_lexer": "ipython3",
   "version": "3.8.3"
  }
 },
 "nbformat": 4,
 "nbformat_minor": 4
}
