{
 "cells": [
  {
   "cell_type": "code",
   "execution_count": 23,
   "metadata": {},
   "outputs": [],
   "source": [
    "# Задание 1\n",
    "phrase_1 = 'Насколько проще было бы писать программы, если бы не заказчики'\n",
    "phrase_2 = '640Кб должно хватить для любых задач. Билл Гейтс (по легенде)'"
   ]
  },
  {
   "cell_type": "code",
   "execution_count": 24,
   "metadata": {},
   "outputs": [
    {
     "name": "stdout",
     "output_type": "stream",
     "text": [
      "Фраза 1 длиннее фразы 2\n"
     ]
    }
   ],
   "source": [
    "if len(phrase_1)>len(phrase_2):\n",
    "    print('Фраза 1 длиннее фразы 2')\n",
    "elif len(phrase_1)<len(phrase_2):\n",
    "    print('Фраза 2 длиннее фразы 1')\n",
    "else:\n",
    "    print('Фразы равной длины')"
   ]
  },
  {
   "cell_type": "code",
   "execution_count": 29,
   "metadata": {},
   "outputs": [],
   "source": [
    "# Задание 2\n",
    "year = 2020"
   ]
  },
  {
   "cell_type": "code",
   "execution_count": 30,
   "metadata": {},
   "outputs": [
    {
     "name": "stdout",
     "output_type": "stream",
     "text": [
      "Високосный год\n"
     ]
    }
   ],
   "source": [
    "if year % 4 == 0:\n",
    "    print('Високосный год')\n",
    "else:\n",
    "    print('Обычный год')"
   ]
  },
  {
   "cell_type": "code",
   "execution_count": 39,
   "metadata": {},
   "outputs": [
    {
     "name": "stdout",
     "output_type": "stream",
     "text": [
      "Введите день: 27\n",
      "Введите месяц: 8\n",
      "Ваш знак зодиака: \n",
      "Дева\n"
     ]
    }
   ],
   "source": [
    "# Задание 3\n",
    "user_date = int(input('Введите день: '))\n",
    "user_month = int(input('Введите месяц: '))\n",
    "print('Ваш знак зодиака: ')\n",
    "if user_month == 1:\n",
    "    if user_date < 20:\n",
    "        print ('Козерог')\n",
    "    else:\n",
    "        print ('Водолей')\n",
    "        \n",
    "elif user_month == 2:\n",
    "    if user_date < 19:\n",
    "        print ('Водолей')\n",
    "    else:\n",
    "        print ('Рыбы')\n",
    "        \n",
    "elif user_month == 3:\n",
    "    if user_date < 21:\n",
    "        print ('Рыбы')\n",
    "    else:\n",
    "        print ('Овен')\n",
    "        \n",
    "elif user_month == 4:\n",
    "    if user_date < 21:\n",
    "        print ('Овен')\n",
    "    else:\n",
    "        print ('Телец')\n",
    "        \n",
    "elif user_month == 5:\n",
    "    if user_date < 21:\n",
    "        print ('Телец')\n",
    "    else:\n",
    "        print ('Близнецы')\n",
    "                \n",
    "elif user_month == 6:\n",
    "    if user_date < 21:\n",
    "        print ('Близнецы')\n",
    "    else:\n",
    "        print ('Рак')\n",
    "        \n",
    "elif user_month == 7:\n",
    "    if user_date < 23:\n",
    "        print ('Рак')\n",
    "    else:\n",
    "        print ('Лев')\n",
    "        \n",
    "elif user_month == 8:\n",
    "    if user_date < 23:\n",
    "        print ('Лев')\n",
    "    else:\n",
    "        print ('Дева')\n",
    "                \n",
    "elif user_month == 9:\n",
    "    if user_date < 24:\n",
    "        print ('Дева')\n",
    "    else:\n",
    "        print ('Весы')\n",
    "                        \n",
    "elif user_month == 10:\n",
    "    if user_date < 24:\n",
    "        print ('Весы')\n",
    "    else:\n",
    "        print ('Скорпион')\n",
    "                            \n",
    "elif user_month == 11:\n",
    "    if user_date < 22:\n",
    "        print ('Скорпион')\n",
    "    else:\n",
    "        print ('Стрелец')   \n",
    "                                    \n",
    "else:\n",
    "    if user_date < 22:\n",
    "        print ('Стрелец')\n",
    "    else:\n",
    "        print ('Козерог') "
   ]
  },
  {
   "cell_type": "code",
   "execution_count": 40,
   "metadata": {},
   "outputs": [],
   "source": [
    "# Задание 4\n",
    "width = 10\n",
    "length = 205\n",
    "height = 5"
   ]
  },
  {
   "cell_type": "code",
   "execution_count": 41,
   "metadata": {},
   "outputs": [],
   "source": [
    "# если каждое из трех измерений менее 15 сантиметров, то выведите на экран \"Коробка №1\";\n",
    "# если хотя бы одно из измерений больше 15 сантиметров, но менее 50 сантиметров, то выводите \"Коробка №2\";\n",
    "# если длина товара больше 2 метров, то выводите \"Упаковка для лыж\";\n",
    "# во всех остальных случаях выводите \"Стандартная коробка №3\". "
   ]
  },
  {
   "cell_type": "code",
   "execution_count": 45,
   "metadata": {},
   "outputs": [
    {
     "name": "stdout",
     "output_type": "stream",
     "text": [
      "Упаковка для лыж\n"
     ]
    }
   ],
   "source": [
    "if width<15 and length<15 and height<15:\n",
    "    print('Коробка №1')\n",
    "elif 15<width<50 or 15<length<50 or 15<height<50:\n",
    "    print('Коробка №2')\n",
    "elif length>200:\n",
    "    print('Упаковка для лыж')\n",
    "else:\n",
    "    print('Стандартная коробка №3')"
   ]
  },
  {
   "cell_type": "code",
   "execution_count": 103,
   "metadata": {},
   "outputs": [
    {
     "name": "stdout",
     "output_type": "stream",
     "text": [
      "Повезет в другой раз\n"
     ]
    }
   ],
   "source": [
    "# Задание 5\n",
    "number = 123456\n",
    "[a,b,c,d,e,f]=str(number)\n",
    "if (int(a)+int(b)+int(c))==(int(d)+int(e)+int(f)):\n",
    "    print('Счастливый билетик')\n",
    "else:\n",
    "    print('Повезет в другой раз')"
   ]
  },
  {
   "cell_type": "code",
   "execution_count": 114,
   "metadata": {},
   "outputs": [
    {
     "name": "stdout",
     "output_type": "stream",
     "text": [
      "Введите тип фигуры:круг\n",
      "Введите радиус круга: 10\n",
      "Площадь круга равна:  314.0\n"
     ]
    }
   ],
   "source": [
    "# Задание 6\n",
    "f_type = input('Введите тип фигуры:')\n",
    "if f_type.lower() == ('круг'):\n",
    "    radius = int(input('Введите радиус круга: '))\n",
    "    print('Площадь круга равна: ',3.14*(radius**2))\n",
    "    \n",
    "elif f_type.lower() == ('прямоугольник'):\n",
    "    length = int(input('Введите длину прямоугольника: '))\n",
    "    width = int(input('Введите ширину прямоугольника: '))\n",
    "    print('Площадь прямоугольника равна: ',length*width)\n",
    "elif f_type.lower() == ('треугольник'):\n",
    "    base = int(input('Введите длину основания треугольника: '))\n",
    "    height = int(input('Введите высоту треугольника: '))\n",
    "    print('Площадь круга равна: ',base*height/2)\n",
    "    \n",
    "else:\n",
    "    print('Тип фигуры не распознан')"
   ]
  },
  {
   "cell_type": "code",
   "execution_count": null,
   "metadata": {},
   "outputs": [],
   "source": []
  }
 ],
 "metadata": {
  "kernelspec": {
   "display_name": "Python 3",
   "language": "python",
   "name": "python3"
  },
  "language_info": {
   "codemirror_mode": {
    "name": "ipython",
    "version": 3
   },
   "file_extension": ".py",
   "mimetype": "text/x-python",
   "name": "python",
   "nbconvert_exporter": "python",
   "pygments_lexer": "ipython3",
   "version": "3.8.3"
  }
 },
 "nbformat": 4,
 "nbformat_minor": 4
}
