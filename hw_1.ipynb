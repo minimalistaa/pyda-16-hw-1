{
 "cells": [
  {
   "cell_type": "code",
   "execution_count": 23,
   "metadata": {},
   "outputs": [],
   "source": [
    "# Задание 1\n",
    "phrase_1 = 'Насколько проще было бы писать программы, если бы не заказчики'\n",
    "phrase_2 = '640Кб должно хватить для любых задач. Билл Гейтс (по легенде)'"
   ]
  },
  {
   "cell_type": "code",
   "execution_count": 24,
   "metadata": {},
   "outputs": [
    {
     "name": "stdout",
     "output_type": "stream",
     "text": [
      "Фраза 1 длиннее фразы 2\n"
     ]
    }
   ],
   "source": [
    "if len(phrase_1) > len(phrase_2):\n",
    "    print('Фраза 1 длиннее фразы 2')\n",
    "elif len(phrase_1) < len(phrase_2):\n",
    "    print('Фраза 2 длиннее фразы 1')\n",
    "else:\n",
    "    print('Фразы равной длины')"
   ]
  },
  {
   "cell_type": "code",
   "execution_count": 5,
   "metadata": {},
   "outputs": [],
   "source": [
    "# Задание 2\n",
    "year = 2020"
   ]
  },
  {
   "cell_type": "code",
   "execution_count": 8,
   "metadata": {},
   "outputs": [
    {
     "name": "stdout",
     "output_type": "stream",
     "text": [
      "Високосный год\n"
     ]
    }
   ],
   "source": [
    "if year % 400 == 0 and year % 100 == 0:\n",
    "    print('Високосный год')\n",
    "elif year % 4 == 0:\n",
    "    print('Високосный год')\n",
    "else:\n",
    "    print('Обычный год')"
   ]
  },
  {
   "cell_type": "code",
   "execution_count": 3,
   "metadata": {},
   "outputs": [
    {
     "name": "stdout",
     "output_type": "stream",
     "text": [
      "Введите день: 27\n",
      "Введите месяц: 8\n",
      "Ваш знак зодиака: \n",
      "Дева\n"
     ]
    }
   ],
   "source": [
    "# Задание 3\n",
    "user_date = int(input('Введите день: '))\n",
    "user_month = int(input('Введите месяц: '))\n",
    "print('Ваш знак зодиака: ')\n",
    "if user_month == 1:\n",
    "    if user_date < 20:\n",
    "        print('Козерог')\n",
    "    else:\n",
    "        print('Водолей')\n",
    "        \n",
    "elif user_month == 2:\n",
    "    if user_date < 19:\n",
    "        print('Водолей')\n",
    "    else:\n",
    "        print('Рыбы')\n",
    "        \n",
    "elif user_month == 3:\n",
    "    if user_date < 21:\n",
    "        print ('Рыбы')\n",
    "    else:\n",
    "        print ('Овен')\n",
    "        \n",
    "elif user_month == 4:\n",
    "    if user_date < 21:\n",
    "        print('Овен')\n",
    "    else:\n",
    "        print('Телец')\n",
    "        \n",
    "elif user_month == 5:\n",
    "    if user_date < 21:\n",
    "        print('Телец')\n",
    "    else:\n",
    "        print('Близнецы')\n",
    "                \n",
    "elif user_month == 6:\n",
    "    if user_date < 21:\n",
    "        print('Близнецы')\n",
    "    else:\n",
    "        print('Рак')\n",
    "        \n",
    "elif user_month == 7:\n",
    "    if user_date < 23:\n",
    "        print('Рак')\n",
    "    else:\n",
    "        print('Лев')\n",
    "        \n",
    "elif user_month == 8:\n",
    "    if user_date < 23:\n",
    "        print('Лев')\n",
    "    else:\n",
    "        print('Дева')\n",
    "                \n",
    "elif user_month == 9:\n",
    "    if user_date < 24:\n",
    "        print('Дева')\n",
    "    else:\n",
    "        print('Весы')\n",
    "                        \n",
    "elif user_month == 10:\n",
    "    if user_date < 24:\n",
    "        print('Весы')\n",
    "    else:\n",
    "        print('Скорпион')\n",
    "                            \n",
    "elif user_month == 11:\n",
    "    if user_date < 22:\n",
    "        print('Скорпион')\n",
    "    else:\n",
    "        print('Стрелец')   \n",
    "                                    \n",
    "elif user_month == 12:\n",
    "    if user_date < 22:\n",
    "        print('Стрелец')\n",
    "    else:\n",
    "        print('Козерог') \n",
    "else:\n",
    "    print('Неверное условие')"
   ]
  },
  {
   "cell_type": "code",
   "execution_count": 12,
   "metadata": {},
   "outputs": [
    {
     "ename": "SyntaxError",
     "evalue": "invalid syntax (<ipython-input-12-77804809b096>, line 5)",
     "output_type": "error",
     "traceback": [
      "\u001b[1;36m  File \u001b[1;32m\"<ipython-input-12-77804809b096>\"\u001b[1;36m, line \u001b[1;32m5\u001b[0m\n\u001b[1;33m    if user_month == 1 and if user_date < 20:\u001b[0m\n\u001b[1;37m                           ^\u001b[0m\n\u001b[1;31mSyntaxError\u001b[0m\u001b[1;31m:\u001b[0m invalid syntax\n"
     ]
    }
   ],
   "source": [
    "# Задание 3 (вторая попытка:D)\n",
    "user_date = int(input('Введите день: '))\n",
    "user_month = int(input('Введите месяц: '))\n",
    "print('Ваш знак зодиака: ')\n",
    "if user_month == 1 and if user_date < 20:\n",
    "        print('Козерог')    \n",
    "elif (user_month == 1 and user_date > 20) or (user_month == 2 and user_date < 19):\n",
    "        print('Водолей')\n",
    "elif (user_month == 2 and user_date > 19) or (user_month == 3 and user_date < 21):\n",
    "        print ('Рыбы')\n",
    "elif (user_month == 3 and user_date > 21) or (user_month == 4 and user_date < 21):\n",
    "        print('Овен')       \n",
    "elif (user_month == 4 and user_date > 21) or (user_month == 5 and user_date < 21):\n",
    "        print('Телец')\n",
    "elif (user_month == 5 and user_date > 21) or (user_month == 6 and user_date < 21):\n",
    "        print('Близнецы')\n",
    "elif (user_month == 6 and user_date > 21) or (user_month == 7 and user_date < 23):\n",
    "        print('Рак')\n",
    "elif (user_month == 7 and user_date > 23) or (user_month == 8 and user_date < 23):\n",
    "        print('Лев')\n",
    "elif (user_month == 8 and user_date > 23) or (user_month == 9 and user_date < 24):\n",
    "        print('Дева')\n",
    "elif (user_month == 9 and user_date > 24) or (user_month == 10 and user_date < 24):\n",
    "        print('Весы')\n",
    "elif (user_month == 10 and user_date > 24) or (user_month == 11 and user_date < 22):\n",
    "        print('Скорпион')                                  \n",
    "elif (user_month == 11 and user_date > 22) or (user_month == 12 and user_date < 22)\n",
    "        print('Стрелец')\n",
    "else:\n",
    "        print('Неверное условие') "
   ]
  },
  {
   "cell_type": "code",
   "execution_count": 9,
   "metadata": {},
   "outputs": [],
   "source": [
    "# Задание 4\n",
    "width = 45\n",
    "length = 205\n",
    "height = 45"
   ]
  },
  {
   "cell_type": "code",
   "execution_count": 41,
   "metadata": {},
   "outputs": [],
   "source": [
    "# если каждое из трех измерений менее 15 сантиметров, то выведите на экран \"Коробка №1\";\n",
    "# если хотя бы одно из измерений больше 15 сантиметров, но менее 50 сантиметров, то выводите \"Коробка №2\";\n",
    "# если длина товара больше 2 метров, то выводите \"Упаковка для лыж\";\n",
    "# во всех остальных случаях выводите \"Стандартная коробка №3\". "
   ]
  },
  {
   "cell_type": "code",
   "execution_count": 11,
   "metadata": {},
   "outputs": [
    {
     "name": "stdout",
     "output_type": "stream",
     "text": [
      "Упаковка для лыж\n"
     ]
    }
   ],
   "source": [
    "if length > 200:\n",
    "    print('Упаковка для лыж')\n",
    "elif width < 15 and length < 15 and height < 15:\n",
    "    print('Коробка №1')\n",
    "elif 15 < width < 50 or 15 < length < 50 or 15 < height < 50:\n",
    "    print('Коробка №2')\n",
    "else:\n",
    "    print('Стандартная коробка №3')"
   ]
  },
  {
   "cell_type": "code",
   "execution_count": 103,
   "metadata": {},
   "outputs": [
    {
     "name": "stdout",
     "output_type": "stream",
     "text": [
      "Повезет в другой раз\n"
     ]
    }
   ],
   "source": [
    "# Задание 5\n",
    "number = 123456\n",
    "[a,b,c,d,e,f] = str(number)\n",
    "if (int(a)+int(b)+int(c)) == (int(d)+int(e)+int(f)):\n",
    "    print('Счастливый билетик')\n",
    "else:\n",
    "    print('Повезет в другой раз')"
   ]
  },
  {
   "cell_type": "code",
   "execution_count": 114,
   "metadata": {},
   "outputs": [
    {
     "name": "stdout",
     "output_type": "stream",
     "text": [
      "Введите тип фигуры:круг\n",
      "Введите радиус круга: 10\n",
      "Площадь круга равна:  314.0\n"
     ]
    }
   ],
   "source": [
    "# Задание 6\n",
    "f_type = input('Введите тип фигуры:')\n",
    "if f_type.lower() == ('круг'):\n",
    "    radius = int(input('Введите радиус круга: '))\n",
    "    print('Площадь круга равна: ', 3.14*(radius**2))\n",
    "    \n",
    "elif f_type.lower() == ('прямоугольник'):\n",
    "    length = int(input('Введите длину прямоугольника: '))\n",
    "    width = int(input('Введите ширину прямоугольника: '))\n",
    "    print('Площадь прямоугольника равна: ', length*width)\n",
    "elif f_type.lower() == ('треугольник'):\n",
    "    base = int(input('Введите длину основания треугольника: '))\n",
    "    height = int(input('Введите высоту треугольника: '))\n",
    "    print('Площадь круга равна: ', base*height/2)\n",
    "    \n",
    "else:\n",
    "    print('Тип фигуры не распознан')"
   ]
  },
  {
   "cell_type": "code",
   "execution_count": null,
   "metadata": {},
   "outputs": [],
   "source": []
  }
 ],
 "metadata": {
  "kernelspec": {
   "display_name": "Python 3",
   "language": "python",
   "name": "python3"
  },
  "language_info": {
   "codemirror_mode": {
    "name": "ipython",
    "version": 3
   },
   "file_extension": ".py",
   "mimetype": "text/x-python",
   "name": "python",
   "nbconvert_exporter": "python",
   "pygments_lexer": "ipython3",
   "version": "3.8.3"
  }
 },
 "nbformat": 4,
 "nbformat_minor": 4
}
