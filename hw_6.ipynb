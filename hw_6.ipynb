{
 "cells": [
  {
   "cell_type": "markdown",
   "metadata": {},
   "source": [
    "Печатные газеты использовали свой формат дат для каждого выпуска. Для каждой газеты из списка напишите формат указанной даты для перевода в объект datetime:\n",
    "The Moscow Times - Wednesday, October 2, 2002\n",
    "The Guardian - Friday, 11.10.13\n",
    "Daily News - Thursday, 18 August 1977"
   ]
  },
  {
   "cell_type": "code",
   "execution_count": null,
   "metadata": {},
   "outputs": [],
   "source": [
    "#The Moscow Times - Wednesday, October 2, 2002\n",
    "%A, %B, %Y"
   ]
  },
  {
   "cell_type": "code",
   "execution_count": null,
   "metadata": {},
   "outputs": [],
   "source": [
    "#The Guardian - Friday, 11.10.13\n",
    "%A, %m.%d.%y"
   ]
  },
  {
   "cell_type": "code",
   "execution_count": null,
   "metadata": {},
   "outputs": [],
   "source": [
    "#Daily News - Thursday, 18 August 1977\n",
    "%A, %d %B %Y"
   ]
  },
  {
   "cell_type": "markdown",
   "metadata": {},
   "source": [
    "Дан поток дат в формате YYYY-MM-DD, в которых встречаются некорректные значения:\n",
    "stream = [‘2018-04-02’, ‘2018-02-29’, ‘2018-19-02’]\n",
    "Напишите функцию, которая проверяет эти даты на корректность. Т. е. для каждой даты возвращает True (дата корректна) или False (некорректная дата)."
   ]
  },
  {
   "cell_type": "code",
   "execution_count": 26,
   "metadata": {},
   "outputs": [],
   "source": [
    "stream = ['2018-04-02', '2018-02-29', '2018-19-02']"
   ]
  },
  {
   "cell_type": "code",
   "execution_count": 35,
   "metadata": {},
   "outputs": [
    {
     "name": "stdout",
     "output_type": "stream",
     "text": [
      "Дата корректна\n",
      "Некорректная дата\n",
      "Некорректная дата\n"
     ]
    }
   ],
   "source": [
    "def data_check():\n",
    "    from datetime import datetime\n",
    "    for date in stream:\n",
    "        try:\n",
    "            date_datetime = datetime.strptime(date, '%Y-%m-%d')\n",
    "            print('Дата корректна')\n",
    "        except:\n",
    "            print('Некорректная дата')\n",
    "\n",
    "data_check()"
   ]
  },
  {
   "cell_type": "markdown",
   "metadata": {},
   "source": [
    "Напишите функцию date_range, которая возвращает список дат за период от start_date до end_date. Даты должны вводиться в формате YYYY-MM-DD. В случае неверного формата или при start_date > end_date должен возвращаться пустой список."
   ]
  },
  {
   "cell_type": "code",
   "execution_count": 60,
   "metadata": {},
   "outputs": [],
   "source": [
    "def user_input():\n",
    "    try:\n",
    "        from datetime import datetime\n",
    "        start_date = datetime.strptime(input('Введите дату начала периода: '), '%Y-%m-%d')\n",
    "        end_date = datetime.strptime(input('Введите дату конца периода: '), '%Y-%m-%d')\n",
    "    \n",
    "    except ValueError:\n",
    "        start_date = 0\n",
    "        end_date = 0\n",
    "    \n",
    "    return start_date, end_date"
   ]
  },
  {
   "cell_type": "code",
   "execution_count": 61,
   "metadata": {},
   "outputs": [
    {
     "name": "stdout",
     "output_type": "stream",
     "text": [
      "Введите дату начала периода: 2020\n",
      "[]\n"
     ]
    },
    {
     "data": {
      "text/plain": [
       "[]"
      ]
     },
     "execution_count": 61,
     "metadata": {},
     "output_type": "execute_result"
    }
   ],
   "source": [
    "def date_range():\n",
    "    \n",
    "    res_dates = []\n",
    "    \n",
    "    #Пользовательский ввод диапазона дат\n",
    "    start_date, end_date = user_input()\n",
    "    \n",
    "    if start_date < end_date:\n",
    "        \n",
    "        try:\n",
    "            from datetime import timedelta\n",
    "            date = start_date\n",
    "            \n",
    "            #Счетчик дат\n",
    "            while date < end_date:\n",
    "                \n",
    "                #Добавление даты в итоговый список дат в формате str\n",
    "                res_dates.append(date.strftime('%Y-%m-%d'))\n",
    "                date += timedelta(days=1)\n",
    "        \n",
    "        except:\n",
    "            print(res_dates)\n",
    "            pass\n",
    "        \n",
    "    else:\n",
    "        print(res_dates)\n",
    "    return res_dates\n",
    "\n",
    "\n",
    "date_range()"
   ]
  },
  {
   "cell_type": "markdown",
   "metadata": {},
   "source": [
    "DEFAULT_USER_COUNT = 3\n",
    "\n",
    "def delete_and_return_last_user(region, default_list=[‘A100’, ‘A101’, ‘A102’]):\n",
    "\"\"“\n",
    "Удаляет из списка default_list последнего пользователя\n",
    "и возвращает ID нового последнего пользователя.\n",
    "”\"\"\n",
    "element_to_delete = default_list[-1]\n",
    "default_list.remove(element_to_delete)\n",
    "\n",
    "return default_list[DEFAULT_USER_COUNT-2]\n",
    "\n",
    "При однократном вызове этой функции все работает корректно:\n",
    "delete_and_return_last_user(1)\n",
    "‘A101’\n",
    "\n",
    "Однако, при повторном вызове получается ошибка IndexError: list index out of range.\n",
    "\n",
    "Задание:\n",
    "\n",
    "Что значит ошибка list index out of range?\n",
    "Почему при первом запуске функция работает корректно, а при втором - нет?"
   ]
  },
  {
   "cell_type": "code",
   "execution_count": 93,
   "metadata": {},
   "outputs": [
    {
     "data": {
      "text/plain": [
       "'A101'"
      ]
     },
     "execution_count": 93,
     "metadata": {},
     "output_type": "execute_result"
    }
   ],
   "source": [
    "DEFAULT_USER_COUNT = 3\n",
    "\n",
    "def delete_and_return_last_user(region, default_list = ['A100', 'A101', 'A102']):\n",
    "    element_to_delete = default_list[-1]\n",
    "    default_list.remove(element_to_delete)\n",
    "\n",
    "    return default_list[DEFAULT_USER_COUNT-2]\n",
    "\n",
    "delete_and_return_last_user(1)\n"
   ]
  },
  {
   "cell_type": "markdown",
   "metadata": {},
   "source": [
    "\"list index out of range\" означает, что индекс элемента вышел за реальные границы списка.\n",
    "Первый раз функция отрабатывает корректно, т.к. кол-во значений по умолчанию = 3. После первого запуска функции первый раз список default_list = 2. При втором запуске функции происходит удаление еще одного значения по умолчанию ( в списке осталось одно значение), а затем функция обращается к предпоследнему значению, но в списке всего одно значение."
   ]
  },
  {
   "cell_type": "code",
   "execution_count": null,
   "metadata": {},
   "outputs": [],
   "source": []
  }
 ],
 "metadata": {
  "kernelspec": {
   "display_name": "Python 3",
   "language": "python",
   "name": "python3"
  },
  "language_info": {
   "codemirror_mode": {
    "name": "ipython",
    "version": 3
   },
   "file_extension": ".py",
   "mimetype": "text/x-python",
   "name": "python",
   "nbconvert_exporter": "python",
   "pygments_lexer": "ipython3",
   "version": "3.8.3"
  }
 },
 "nbformat": 4,
 "nbformat_minor": 4
}
