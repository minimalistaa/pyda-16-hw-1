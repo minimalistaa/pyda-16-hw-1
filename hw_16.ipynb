{
 "cells": [
  {
   "cell_type": "markdown",
   "metadata": {},
   "source": [
    "Смоделировать игру против лотерейного автомата типа “777”. Игрок платит 1 руб., после чего выпадает случайное целое число, равномерно распределенное от 0 до 999. При некоторых значениях числа игрок получает выигрыш (см. справа)\n",
    "\n",
    "Выгодна ли игра игроку?\n",
    "\n",
    "Сколько в среднем приобретает\n",
    "или теряет игрок за одну игру?\n",
    "\n",
    "777: 200 руб.\n",
    "\n",
    "999: 100 руб.\n",
    "\n",
    "555: 50 руб.\n",
    "\n",
    "333: 15 руб.\n",
    "\n",
    "111: 10 руб.\n",
    "\n",
    "*77: 5 руб.\n",
    "\n",
    "**7: 3 руб.\n",
    "\n",
    "*00: 2 руб.\n",
    "\n",
    "**0: 1 руб.\n",
    "\n",
    "\n",
    "– любая цифра"
   ]
  },
  {
   "cell_type": "code",
   "execution_count": 12,
   "metadata": {},
   "outputs": [],
   "source": [
    "def casino_game(b):\n",
    "    print (b)\n",
    "    if b == 777:\n",
    "        return 'Вы выйграли 200 рублей!'\n",
    "    elif b == 999:\n",
    "        return 'Вы выйграли 100 рублей!'\n",
    "    elif b == 555:\n",
    "        return 'Вы выйграли 50 рублей!'\n",
    "    elif b == 33:\n",
    "        return 'Вы выйграли 15 рублей!'\n",
    "    elif b == 111:\n",
    "        return 'Вы выйграли 10 рублей!'\n",
    "    elif b % 100 == 77:\n",
    "        return 'Вы выйграли 5 рублей!'\n",
    "    elif b % 10 == 7:\n",
    "        return 'Вы выйграли 3 рубля!'\n",
    "    elif b % 100 == 0:\n",
    "        return 'Вы выйграли 2 рубля!'\n",
    "    elif b % 10 == 0:\n",
    "        return 'Вы выйграли 1 рубль!'\n",
    "    else:\n",
    "        return 'Не везет в казино, повезет в любви!'"
   ]
  },
  {
   "cell_type": "code",
   "execution_count": 13,
   "metadata": {},
   "outputs": [
    {
     "name": "stdout",
     "output_type": "stream",
     "text": [
      "891\n"
     ]
    },
    {
     "data": {
      "text/plain": [
       "'Не везет в казино, повезет в любви!'"
      ]
     },
     "execution_count": 13,
     "metadata": {},
     "output_type": "execute_result"
    }
   ],
   "source": [
    "import numpy as np\n",
    "a = np.random.randint(0, 10, 3)\n",
    "b = a[0]*100+a[1]*10+a[2]\n",
    "casino_game(b)"
   ]
  },
  {
   "cell_type": "markdown",
   "metadata": {},
   "source": [
    "Дополнительное задание повышенной сложности. Теоретически рассчитать средний выигрыш (проигрыш) и сравнить с результатами моделирования\n"
   ]
  },
  {
   "cell_type": "code",
   "execution_count": 14,
   "metadata": {},
   "outputs": [
    {
     "data": {
      "text/plain": [
       "0.805"
      ]
     },
     "execution_count": 14,
     "metadata": {},
     "output_type": "execute_result"
    }
   ],
   "source": [
    "#вероятность выпадения 777 (выйгрыш 200 р)\n",
    "p1 = 1/1000\n",
    "\n",
    "#вероятность выпадения 999 (выйгрыш 100 р)\n",
    "p2 = 1/1000\n",
    "\n",
    "#вероятность выпадения 555 (выйгрыш 50 р)\n",
    "p3 = 1/1000\n",
    "\n",
    "#вероятность выпадения 333 (выйгрыш 15 р)\n",
    "p4 = 1/1000\n",
    "\n",
    "#вероятность выпадения 111 (выйгрыш 10 р)\n",
    "p5 = 1/1000\n",
    "\n",
    "#вероятность выпадения *77 (выйгрыш 5 р)\n",
    "p6 = 10/1000\n",
    "\n",
    "#вероятность выпадения **7 (выйгрыш 3 р)\n",
    "p7 = 90/1000\n",
    "\n",
    "#вероятность выпадения *00 (выйгрыш 2 р)\n",
    "p8 = 10/1000\n",
    "\n",
    "#вероятность выпадения **0 (выйгрыш 1 р)\n",
    "p9 = 90/1000\n",
    "\n",
    "#среднее значение выйгрыша при 1ой игре\n",
    "t = p1*200+p2*100+p3*50+p4*15+p5*10+p6*5+p7*3+p8*2+p9*1\n",
    "t\n",
    "\n",
    "#т.о. каждую игру пользователь проигрывает 1 - 0.805 = 0.195 р"
   ]
  },
  {
   "cell_type": "markdown",
   "metadata": {},
   "source": [
    "Моделируем 1 000 000 игр в автомат."
   ]
  },
  {
   "cell_type": "code",
   "execution_count": 15,
   "metadata": {},
   "outputs": [],
   "source": [
    "import numpy as np"
   ]
  },
  {
   "cell_type": "code",
   "execution_count": 16,
   "metadata": {},
   "outputs": [],
   "source": [
    "def casino_game_test(win):\n",
    "    a = np.random.randint(0, 10, 3)\n",
    "    b = a[0]*100+a[1]*10+a[2]\n",
    "    #print(b)\n",
    "    if b == 777:\n",
    "        win.append(200)\n",
    "    elif b == 999:\n",
    "        win.append(100)\n",
    "    elif b == 555:\n",
    "        win.append(50)\n",
    "    elif b == 333:\n",
    "        win.append(15)\n",
    "    elif b == 111:\n",
    "        win.append(10)\n",
    "    elif b % 100 == 77:\n",
    "        win.append(5)\n",
    "    elif b % 10 == 7:\n",
    "        win.append(3)\n",
    "    elif b % 100 == 0:\n",
    "        win.append(2)\n",
    "    elif b % 10 == 0:\n",
    "        win.append(1)\n",
    "    else:\n",
    "        win.append(0)\n",
    "    return win"
   ]
  },
  {
   "cell_type": "code",
   "execution_count": 19,
   "metadata": {},
   "outputs": [
    {
     "name": "stdout",
     "output_type": "stream",
     "text": [
      "0.798363\n"
     ]
    }
   ],
   "source": [
    "n = 1000000\n",
    "win = []\n",
    "for i in range(n):\n",
    "    casino_game_test(win)\n",
    "    i +=1\n",
    "tt = sum(win) / n\n",
    "#значение выйгрыша по результатам моделирования 1 млн игр\n",
    "print(tt)\n",
    "#print(win)\n",
    "#т.о. каждую игру пользователь проигрывает 1 - 0.798 = 0.202 р"
   ]
  },
  {
   "cell_type": "code",
   "execution_count": null,
   "metadata": {},
   "outputs": [],
   "source": []
  },
  {
   "cell_type": "code",
   "execution_count": null,
   "metadata": {},
   "outputs": [],
   "source": []
  }
 ],
 "metadata": {
  "kernelspec": {
   "display_name": "Python 3",
   "language": "python",
   "name": "python3"
  },
  "language_info": {
   "codemirror_mode": {
    "name": "ipython",
    "version": 3
   },
   "file_extension": ".py",
   "mimetype": "text/x-python",
   "name": "python",
   "nbconvert_exporter": "python",
   "pygments_lexer": "ipython3",
   "version": "3.8.3"
  }
 },
 "nbformat": 4,
 "nbformat_minor": 4
}
