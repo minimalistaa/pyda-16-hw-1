{
 "cells": [
  {
   "cell_type": "markdown",
   "metadata": {},
   "source": [
    "Задание 1.\n",
    "Скачайте с сайта https://grouplens.org/datasets/movielens/ датасет любого размера. Определите какому фильму было выставлено больше всего оценок 5.0."
   ]
  },
  {
   "cell_type": "code",
   "execution_count": 3,
   "metadata": {},
   "outputs": [],
   "source": [
    "import pandas as pd"
   ]
  },
  {
   "cell_type": "code",
   "execution_count": 4,
   "metadata": {},
   "outputs": [
    {
     "data": {
      "text/html": [
       "<div>\n",
       "<style scoped>\n",
       "    .dataframe tbody tr th:only-of-type {\n",
       "        vertical-align: middle;\n",
       "    }\n",
       "\n",
       "    .dataframe tbody tr th {\n",
       "        vertical-align: top;\n",
       "    }\n",
       "\n",
       "    .dataframe thead th {\n",
       "        text-align: right;\n",
       "    }\n",
       "</style>\n",
       "<table border=\"1\" class=\"dataframe\">\n",
       "  <thead>\n",
       "    <tr style=\"text-align: right;\">\n",
       "      <th></th>\n",
       "      <th>userId</th>\n",
       "      <th>movieId</th>\n",
       "      <th>rating</th>\n",
       "      <th>timestamp</th>\n",
       "      <th>title</th>\n",
       "      <th>genres</th>\n",
       "    </tr>\n",
       "  </thead>\n",
       "  <tbody>\n",
       "    <tr>\n",
       "      <th>33889</th>\n",
       "      <td>242</td>\n",
       "      <td>2929</td>\n",
       "      <td>5.0</td>\n",
       "      <td>956687566</td>\n",
       "      <td>Reds (1981)</td>\n",
       "      <td>Drama|Romance</td>\n",
       "    </tr>\n",
       "    <tr>\n",
       "      <th>36867</th>\n",
       "      <td>265</td>\n",
       "      <td>1233</td>\n",
       "      <td>5.0</td>\n",
       "      <td>960056214</td>\n",
       "      <td>Boot, Das (Boat, The) (1981)</td>\n",
       "      <td>Action|Drama|War</td>\n",
       "    </tr>\n",
       "    <tr>\n",
       "      <th>46251</th>\n",
       "      <td>337</td>\n",
       "      <td>1356</td>\n",
       "      <td>5.0</td>\n",
       "      <td>1447176421</td>\n",
       "      <td>Star Trek: First Contact (1996)</td>\n",
       "      <td>Action|Adventure|Sci-Fi|Thriller</td>\n",
       "    </tr>\n",
       "    <tr>\n",
       "      <th>14749</th>\n",
       "      <td>95</td>\n",
       "      <td>3948</td>\n",
       "      <td>5.0</td>\n",
       "      <td>1025556197</td>\n",
       "      <td>Meet the Parents (2000)</td>\n",
       "      <td>Comedy</td>\n",
       "    </tr>\n",
       "    <tr>\n",
       "      <th>14747</th>\n",
       "      <td>95</td>\n",
       "      <td>3917</td>\n",
       "      <td>5.0</td>\n",
       "      <td>1019023102</td>\n",
       "      <td>Hellraiser (1987)</td>\n",
       "      <td>Horror</td>\n",
       "    </tr>\n",
       "  </tbody>\n",
       "</table>\n",
       "</div>"
      ],
      "text/plain": [
       "       userId  movieId  rating   timestamp                            title  \\\n",
       "33889     242     2929     5.0   956687566                      Reds (1981)   \n",
       "36867     265     1233     5.0   960056214     Boot, Das (Boat, The) (1981)   \n",
       "46251     337     1356     5.0  1447176421  Star Trek: First Contact (1996)   \n",
       "14749      95     3948     5.0  1025556197          Meet the Parents (2000)   \n",
       "14747      95     3917     5.0  1019023102                Hellraiser (1987)   \n",
       "\n",
       "                                 genres  \n",
       "33889                     Drama|Romance  \n",
       "36867                  Action|Drama|War  \n",
       "46251  Action|Adventure|Sci-Fi|Thriller  \n",
       "14749                            Comedy  \n",
       "14747                            Horror  "
      ]
     },
     "execution_count": 4,
     "metadata": {},
     "output_type": "execute_result"
    }
   ],
   "source": [
    "ratings = pd.read_csv('ml-latest-small/ratings.csv')\n",
    "movies = pd.read_csv('ml-latest-small/movies.csv')\n",
    "joined = ratings.merge(movies, on='movieId', how='left')\n",
    "joined.sort_values('rating', ascending=False).head()"
   ]
  },
  {
   "cell_type": "code",
   "execution_count": 5,
   "metadata": {},
   "outputs": [
    {
     "name": "stdout",
     "output_type": "stream",
     "text": [
      "Больше всего оценок 5.0 получил фильм: The Green Mile(1999)\n"
     ]
    }
   ],
   "source": [
    "print(f'Больше всего оценок 5.0 получил фильм: The Green Mile(1999)')"
   ]
  },
  {
   "cell_type": "markdown",
   "metadata": {},
   "source": [
    "Задание 2.\n",
    "По данным файла power.csv посчитайте суммарное потребление стран Прибалтики (Латвия, Литва и Эстония) категорий 4, 12 и 21 за период с 2005 по 2010 года. Не учитывайте в расчетах отрицательные значения quantity."
   ]
  },
  {
   "cell_type": "code",
   "execution_count": 6,
   "metadata": {},
   "outputs": [
    {
     "data": {
      "text/html": [
       "<div>\n",
       "<style scoped>\n",
       "    .dataframe tbody tr th:only-of-type {\n",
       "        vertical-align: middle;\n",
       "    }\n",
       "\n",
       "    .dataframe tbody tr th {\n",
       "        vertical-align: top;\n",
       "    }\n",
       "\n",
       "    .dataframe thead th {\n",
       "        text-align: right;\n",
       "    }\n",
       "</style>\n",
       "<table border=\"1\" class=\"dataframe\">\n",
       "  <thead>\n",
       "    <tr style=\"text-align: right;\">\n",
       "      <th></th>\n",
       "      <th>country</th>\n",
       "      <th>year</th>\n",
       "      <th>quantity</th>\n",
       "      <th>category</th>\n",
       "    </tr>\n",
       "  </thead>\n",
       "  <tbody>\n",
       "    <tr>\n",
       "      <th>10617</th>\n",
       "      <td>Estonia</td>\n",
       "      <td>2008</td>\n",
       "      <td>1.0</td>\n",
       "      <td>4</td>\n",
       "    </tr>\n",
       "    <tr>\n",
       "      <th>10618</th>\n",
       "      <td>Estonia</td>\n",
       "      <td>2007</td>\n",
       "      <td>0.0</td>\n",
       "      <td>4</td>\n",
       "    </tr>\n",
       "    <tr>\n",
       "      <th>10619</th>\n",
       "      <td>Estonia</td>\n",
       "      <td>2006</td>\n",
       "      <td>0.0</td>\n",
       "      <td>4</td>\n",
       "    </tr>\n",
       "    <tr>\n",
       "      <th>10620</th>\n",
       "      <td>Estonia</td>\n",
       "      <td>2005</td>\n",
       "      <td>1.0</td>\n",
       "      <td>4</td>\n",
       "    </tr>\n",
       "    <tr>\n",
       "      <th>10621</th>\n",
       "      <td>Estonia</td>\n",
       "      <td>2004</td>\n",
       "      <td>1.0</td>\n",
       "      <td>4</td>\n",
       "    </tr>\n",
       "    <tr>\n",
       "      <th>...</th>\n",
       "      <td>...</td>\n",
       "      <td>...</td>\n",
       "      <td>...</td>\n",
       "      <td>...</td>\n",
       "    </tr>\n",
       "    <tr>\n",
       "      <th>253986</th>\n",
       "      <td>Lithuania</td>\n",
       "      <td>2005</td>\n",
       "      <td>1.0</td>\n",
       "      <td>21</td>\n",
       "    </tr>\n",
       "    <tr>\n",
       "      <th>253987</th>\n",
       "      <td>Lithuania</td>\n",
       "      <td>2004</td>\n",
       "      <td>1.0</td>\n",
       "      <td>21</td>\n",
       "    </tr>\n",
       "    <tr>\n",
       "      <th>253988</th>\n",
       "      <td>Lithuania</td>\n",
       "      <td>2003</td>\n",
       "      <td>0.0</td>\n",
       "      <td>21</td>\n",
       "    </tr>\n",
       "    <tr>\n",
       "      <th>253989</th>\n",
       "      <td>Lithuania</td>\n",
       "      <td>2002</td>\n",
       "      <td>0.0</td>\n",
       "      <td>21</td>\n",
       "    </tr>\n",
       "    <tr>\n",
       "      <th>253990</th>\n",
       "      <td>Lithuania</td>\n",
       "      <td>2001</td>\n",
       "      <td>0.0</td>\n",
       "      <td>21</td>\n",
       "    </tr>\n",
       "  </tbody>\n",
       "</table>\n",
       "<p>1253 rows × 4 columns</p>\n",
       "</div>"
      ],
      "text/plain": [
       "          country  year  quantity  category\n",
       "10617     Estonia  2008       1.0         4\n",
       "10618     Estonia  2007       0.0         4\n",
       "10619     Estonia  2006       0.0         4\n",
       "10620     Estonia  2005       1.0         4\n",
       "10621     Estonia  2004       1.0         4\n",
       "...           ...   ...       ...       ...\n",
       "253986  Lithuania  2005       1.0        21\n",
       "253987  Lithuania  2004       1.0        21\n",
       "253988  Lithuania  2003       0.0        21\n",
       "253989  Lithuania  2002       0.0        21\n",
       "253990  Lithuania  2001       0.0        21\n",
       "\n",
       "[1253 rows x 4 columns]"
      ]
     },
     "execution_count": 6,
     "metadata": {},
     "output_type": "execute_result"
    }
   ],
   "source": [
    "data = pd.read_csv('power.csv')\n",
    "filtered_countries = data[ (data['country'] =='Lithuania') | (data['country'] =='Latvia') | (data['country'] =='Estonia')]\n",
    "filtered_countries_cat = filtered_countries[ (filtered_countries['category']==4) | (filtered_countries['category']==12) | (filtered_countries['category']==21)]\n",
    "filtered_final = filtered_countries_cat[ (filtered_countries_cat['year']>2005) | (filtered_countries_cat['year']<2010)]\n",
    "filtered_final"
   ]
  },
  {
   "cell_type": "code",
   "execution_count": 6,
   "metadata": {},
   "outputs": [],
   "source": []
  },
  {
   "cell_type": "markdown",
   "metadata": {},
   "source": [
    "Задание 3.\n",
    "Выберите страницу любого сайта с табличными данными. Импортируйте таблицы в pandas dataframe.\n",
    "Примеры страниц (необязательно брать именно эти):\n",
    "https://fortrader.org/quotes\n",
    "https://www.finanz.ru/valyuty/v-realnom-vremeni"
   ]
  },
  {
   "cell_type": "code",
   "execution_count": 22,
   "metadata": {},
   "outputs": [
    {
     "name": "stdout",
     "output_type": "stream",
     "text": [
      "     0       1      2        3       4      5        6       7      8   \\\n",
      "0  ММВБ   3 451  -1,1%   Nasdaq  12 999  -0,9%  Биткойн  35 211  -1,5%   \n",
      "1   РТС   1 474  -1,8%   S&P500   3 768  -0,7%    Нефть     546  -0,7%   \n",
      "2   Dow  30 814  -0,6%  FTSE100   6 736  -1,0%   Золото   1 828   0,0%   \n",
      "\n",
      "        9       10     11  \n",
      "0  USD/RUB  736665   0,0%  \n",
      "1  EUR/RUB  889120   0,1%  \n",
      "2  EUR/USD   12073  -0,1%  \n"
     ]
    }
   ],
   "source": [
    "table_list = pd.read_html('https://www.finanz.ru/valyuty/v-realnom-vremeni', encoding='utf-8')\n",
    "\n",
    "print(table_list[0])"
   ]
  },
  {
   "cell_type": "code",
   "execution_count": null,
   "metadata": {},
   "outputs": [],
   "source": []
  },
  {
   "cell_type": "code",
   "execution_count": null,
   "metadata": {},
   "outputs": [],
   "source": []
  }
 ],
 "metadata": {
  "kernelspec": {
   "display_name": "Python 3",
   "language": "python",
   "name": "python3"
  },
  "language_info": {
   "codemirror_mode": {
    "name": "ipython",
    "version": 3
   },
   "file_extension": ".py",
   "mimetype": "text/x-python",
   "name": "python",
   "nbconvert_exporter": "python",
   "pygments_lexer": "ipython3",
   "version": "3.8.3"
  }
 },
 "nbformat": 4,
 "nbformat_minor": 4
}
